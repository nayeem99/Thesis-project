{
 "cells": [
  {
   "cell_type": "code",
   "execution_count": 1,
   "id": "14998452",
   "metadata": {},
   "outputs": [],
   "source": [
    "import numpy as np\n",
    "import matplotlib.pyplot as plt\n",
    "import pandas as pd\n",
    "from sklearn import metrics\n",
    "import seaborn as sns\n",
    "\n",
    "from sklearn.model_selection import StratifiedKFold\n",
    "from sklearn.model_selection import cross_val_score\n",
    "\n",
    "from sklearn.linear_model import LogisticRegression\n",
    "from sklearn.tree import DecisionTreeClassifier\n",
    "from sklearn.ensemble import RandomForestClassifier\n",
    "from sklearn.datasets import make_classification\n",
    "from sklearn.neighbors import KNeighborsClassifier\n",
    "from sklearn.linear_model import LinearRegression\n",
    "from sklearn.svm import SVC\n",
    "import lightgbm as lgb\n",
    "import xgboost as xgb"
   ]
  },
  {
   "cell_type": "markdown",
   "id": "47cb181f",
   "metadata": {},
   "source": [
    "# Loading Data"
   ]
  },
  {
   "cell_type": "code",
   "execution_count": 2,
   "id": "e6be2a1e",
   "metadata": {},
   "outputs": [
    {
     "data": {
      "text/plain": [
       "(183, 16)"
      ]
     },
     "execution_count": 2,
     "metadata": {},
     "output_type": "execute_result"
    }
   ],
   "source": [
    "df = pd.read_csv(\"../datasets/Thesis_dataset.csv\",header=None)\n",
    "\n",
    "df = df.drop([0])\n",
    "\n",
    "df.set_axis(['Fetal age','General menstrual cyclic status of mother','Type of pregnancy','Blood serotype of mother',\n",
    "              'Past delivery number','Number of abortions','Diabetics history','Hypertension','Other illness',\n",
    "             'Operation history','Presence of disabled childeren',\n",
    "             'Presence of disabled children in father family','Covid history','Previous child home or hospital delivery',\n",
    "            'Any other illness','Status'],axis=1,inplace=True)\n",
    "df.shape"
   ]
  },
  {
   "cell_type": "code",
   "execution_count": 3,
   "id": "eb207579",
   "metadata": {},
   "outputs": [
    {
     "data": {
      "text/plain": [
       "0    150\n",
       "1     33\n",
       "Name: Status, dtype: int64"
      ]
     },
     "execution_count": 3,
     "metadata": {},
     "output_type": "execute_result"
    }
   ],
   "source": [
    "df['Status'].value_counts()"
   ]
  },
  {
   "cell_type": "code",
   "execution_count": 4,
   "id": "e1440ac8",
   "metadata": {},
   "outputs": [
    {
     "data": {
      "text/html": [
       "<div>\n",
       "<style scoped>\n",
       "    .dataframe tbody tr th:only-of-type {\n",
       "        vertical-align: middle;\n",
       "    }\n",
       "\n",
       "    .dataframe tbody tr th {\n",
       "        vertical-align: top;\n",
       "    }\n",
       "\n",
       "    .dataframe thead th {\n",
       "        text-align: right;\n",
       "    }\n",
       "</style>\n",
       "<table border=\"1\" class=\"dataframe\">\n",
       "  <thead>\n",
       "    <tr style=\"text-align: right;\">\n",
       "      <th></th>\n",
       "      <th>Fetal age</th>\n",
       "      <th>General menstrual cyclic status of mother</th>\n",
       "      <th>Type of pregnancy</th>\n",
       "      <th>Blood serotype of mother</th>\n",
       "      <th>Past delivery number</th>\n",
       "      <th>Number of abortions</th>\n",
       "      <th>Diabetics history</th>\n",
       "      <th>Hypertension</th>\n",
       "      <th>Other illness</th>\n",
       "      <th>Operation history</th>\n",
       "      <th>Presence of disabled childeren</th>\n",
       "      <th>Presence of disabled children in father family</th>\n",
       "      <th>Covid history</th>\n",
       "      <th>Previous child home or hospital delivery</th>\n",
       "      <th>Any other illness</th>\n",
       "      <th>Status</th>\n",
       "    </tr>\n",
       "  </thead>\n",
       "  <tbody>\n",
       "    <tr>\n",
       "      <th>1</th>\n",
       "      <td>15</td>\n",
       "      <td>0</td>\n",
       "      <td>0</td>\n",
       "      <td>4</td>\n",
       "      <td>0</td>\n",
       "      <td>0</td>\n",
       "      <td>0</td>\n",
       "      <td>0</td>\n",
       "      <td>0</td>\n",
       "      <td>0</td>\n",
       "      <td>0</td>\n",
       "      <td>0</td>\n",
       "      <td>0</td>\n",
       "      <td>0</td>\n",
       "      <td>0</td>\n",
       "      <td>0</td>\n",
       "    </tr>\n",
       "    <tr>\n",
       "      <th>2</th>\n",
       "      <td>14</td>\n",
       "      <td>1</td>\n",
       "      <td>0</td>\n",
       "      <td>3</td>\n",
       "      <td>0</td>\n",
       "      <td>0</td>\n",
       "      <td>0</td>\n",
       "      <td>0</td>\n",
       "      <td>0</td>\n",
       "      <td>1</td>\n",
       "      <td>0</td>\n",
       "      <td>0</td>\n",
       "      <td>0</td>\n",
       "      <td>0</td>\n",
       "      <td>1</td>\n",
       "      <td>0</td>\n",
       "    </tr>\n",
       "    <tr>\n",
       "      <th>3</th>\n",
       "      <td>7</td>\n",
       "      <td>0</td>\n",
       "      <td>0</td>\n",
       "      <td>4</td>\n",
       "      <td>1</td>\n",
       "      <td>0</td>\n",
       "      <td>1</td>\n",
       "      <td>1</td>\n",
       "      <td>0</td>\n",
       "      <td>0</td>\n",
       "      <td>0</td>\n",
       "      <td>0</td>\n",
       "      <td>0</td>\n",
       "      <td>0</td>\n",
       "      <td>0</td>\n",
       "      <td>0</td>\n",
       "    </tr>\n",
       "    <tr>\n",
       "      <th>4</th>\n",
       "      <td>8</td>\n",
       "      <td>1</td>\n",
       "      <td>0</td>\n",
       "      <td>2</td>\n",
       "      <td>1</td>\n",
       "      <td>0</td>\n",
       "      <td>1</td>\n",
       "      <td>0</td>\n",
       "      <td>0</td>\n",
       "      <td>1</td>\n",
       "      <td>0</td>\n",
       "      <td>0</td>\n",
       "      <td>0</td>\n",
       "      <td>1</td>\n",
       "      <td>0</td>\n",
       "      <td>1</td>\n",
       "    </tr>\n",
       "    <tr>\n",
       "      <th>5</th>\n",
       "      <td>9</td>\n",
       "      <td>0</td>\n",
       "      <td>0</td>\n",
       "      <td>4</td>\n",
       "      <td>0</td>\n",
       "      <td>0</td>\n",
       "      <td>0</td>\n",
       "      <td>0</td>\n",
       "      <td>0</td>\n",
       "      <td>0</td>\n",
       "      <td>0</td>\n",
       "      <td>0</td>\n",
       "      <td>0</td>\n",
       "      <td>0</td>\n",
       "      <td>0</td>\n",
       "      <td>0</td>\n",
       "    </tr>\n",
       "  </tbody>\n",
       "</table>\n",
       "</div>"
      ],
      "text/plain": [
       "   Fetal age  General menstrual cyclic status of mother  Type of pregnancy  \\\n",
       "1         15                                          0                  0   \n",
       "2         14                                          1                  0   \n",
       "3          7                                          0                  0   \n",
       "4          8                                          1                  0   \n",
       "5          9                                          0                  0   \n",
       "\n",
       "   Blood serotype of mother  Past delivery number  Number of abortions  \\\n",
       "1                         4                     0                    0   \n",
       "2                         3                     0                    0   \n",
       "3                         4                     1                    0   \n",
       "4                         2                     1                    0   \n",
       "5                         4                     0                    0   \n",
       "\n",
       "   Diabetics history  Hypertension  Other illness  Operation history  \\\n",
       "1                  0             0              0                  0   \n",
       "2                  0             0              0                  1   \n",
       "3                  1             1              0                  0   \n",
       "4                  1             0              0                  1   \n",
       "5                  0             0              0                  0   \n",
       "\n",
       "   Presence of disabled childeren  \\\n",
       "1                               0   \n",
       "2                               0   \n",
       "3                               0   \n",
       "4                               0   \n",
       "5                               0   \n",
       "\n",
       "   Presence of disabled children in father family  Covid history  \\\n",
       "1                                               0              0   \n",
       "2                                               0              0   \n",
       "3                                               0              0   \n",
       "4                                               0              0   \n",
       "5                                               0              0   \n",
       "\n",
       "   Previous child home or hospital delivery  Any other illness  Status  \n",
       "1                                         0                  0       0  \n",
       "2                                         0                  1       0  \n",
       "3                                         0                  0       0  \n",
       "4                                         1                  0       1  \n",
       "5                                         0                  0       0  "
      ]
     },
     "execution_count": 4,
     "metadata": {},
     "output_type": "execute_result"
    }
   ],
   "source": [
    "df.head()"
   ]
  },
  {
   "cell_type": "markdown",
   "id": "4335e14c",
   "metadata": {},
   "source": [
    "# Data preprocessing"
   ]
  },
  {
   "cell_type": "code",
   "execution_count": 5,
   "id": "3b565365",
   "metadata": {},
   "outputs": [],
   "source": [
    "y = df['Status'].values"
   ]
  },
  {
   "cell_type": "code",
   "execution_count": 6,
   "id": "f219c7cd",
   "metadata": {},
   "outputs": [],
   "source": [
    "from sklearn.preprocessing import LabelEncoder\n",
    "labelEncoder = LabelEncoder()\n",
    "Y = labelEncoder.fit_transform(y)"
   ]
  },
  {
   "cell_type": "code",
   "execution_count": 7,
   "id": "b404173e",
   "metadata": {},
   "outputs": [],
   "source": [
    "X_ = df.drop([\"Status\"],axis=1)\n",
    "# X_ = X.to_numpy()"
   ]
  },
  {
   "cell_type": "code",
   "execution_count": 8,
   "id": "6d7091ca",
   "metadata": {},
   "outputs": [],
   "source": [
    "feature_names = np.array(X_.columns)"
   ]
  },
  {
   "cell_type": "code",
   "execution_count": 9,
   "id": "e5a55905",
   "metadata": {},
   "outputs": [],
   "source": [
    "from sklearn.preprocessing import StandardScaler\n",
    "scaler = StandardScaler()\n",
    "scaler.fit(X_)\n",
    "X = scaler.transform(X_)"
   ]
  },
  {
   "cell_type": "code",
   "execution_count": 10,
   "id": "2c2f8689",
   "metadata": {},
   "outputs": [
    {
     "data": {
      "text/plain": [
       "(183, 15)"
      ]
     },
     "execution_count": 10,
     "metadata": {},
     "output_type": "execute_result"
    }
   ],
   "source": [
    "X.shape"
   ]
  },
  {
   "cell_type": "markdown",
   "id": "294cd275",
   "metadata": {},
   "source": [
    "# Load the separate test data"
   ]
  },
  {
   "cell_type": "code",
   "execution_count": 11,
   "id": "59217da8",
   "metadata": {},
   "outputs": [],
   "source": [
    "test = pd.read_csv(\"../datasets/test_dataset.csv\",header=None)\n",
    "\n",
    "test= test.drop([0])\n",
    "\n",
    "test.set_axis(['Fetal age','General menstrual cyclic status of mother','Type of pregnancy','Blood serotype of mother',\n",
    "              'Past delivery number','Number of abortions','Diabetics history','Hypertension','Other illness',\n",
    "             'Operation history','Presence of disabled childeren',\n",
    "             'Presence of disabled children in father family','Covid history','Previous child home or hospital delivery',\n",
    "            'Any other illness','Status'],axis=1,inplace=True)"
   ]
  },
  {
   "cell_type": "code",
   "execution_count": 12,
   "id": "29ccd5c1",
   "metadata": {},
   "outputs": [
    {
     "data": {
      "text/plain": [
       "0    24\n",
       "1     6\n",
       "Name: Status, dtype: int64"
      ]
     },
     "execution_count": 12,
     "metadata": {},
     "output_type": "execute_result"
    }
   ],
   "source": [
    "test['Status'].value_counts()"
   ]
  },
  {
   "cell_type": "code",
   "execution_count": 13,
   "id": "113d6ba5",
   "metadata": {},
   "outputs": [
    {
     "data": {
      "text/plain": [
       "(30, 15)"
      ]
     },
     "execution_count": 13,
     "metadata": {},
     "output_type": "execute_result"
    }
   ],
   "source": [
    "Y_t = test['Status'].values\n",
    "\n",
    "labelEncoder = LabelEncoder()\n",
    "Y_ = labelEncoder.fit_transform(Y_t)\n",
    "\n",
    "X_ = test.drop([\"Status\"],axis=1)\n",
    "\n",
    "scaler = StandardScaler()\n",
    "scaler.fit(X_)\n",
    "T = scaler.transform(X_)\n",
    "\n",
    "T.shape"
   ]
  },
  {
   "cell_type": "markdown",
   "id": "973f30cc",
   "metadata": {},
   "source": [
    "# Train-Test split"
   ]
  },
  {
   "cell_type": "code",
   "execution_count": 14,
   "id": "781e57ed",
   "metadata": {},
   "outputs": [],
   "source": [
    "from sklearn.model_selection import train_test_split\n",
    "X_train,X_test,Y_train,Y_test = train_test_split(X,Y,test_size=0.2, random_state=42)"
   ]
  },
  {
   "cell_type": "markdown",
   "id": "46fc502b",
   "metadata": {},
   "source": [
    "# K-fold data"
   ]
  },
  {
   "cell_type": "code",
   "execution_count": 15,
   "id": "a77cd194",
   "metadata": {},
   "outputs": [],
   "source": [
    "def avg(lst):\n",
    "    return sum(lst) / len(lst)"
   ]
  },
  {
   "cell_type": "code",
   "execution_count": 16,
   "id": "62d5e335",
   "metadata": {},
   "outputs": [
    {
     "name": "stdout",
     "output_type": "stream",
     "text": [
      "train: (164, 15), test: (19, 15)\n",
      "train: (164, 15), test: (19, 15)\n",
      "train: (164, 15), test: (19, 15)\n",
      "train: (165, 15), test: (18, 15)\n",
      "train: (165, 15), test: (18, 15)\n",
      "train: (165, 15), test: (18, 15)\n",
      "train: (165, 15), test: (18, 15)\n",
      "train: (165, 15), test: (18, 15)\n",
      "train: (165, 15), test: (18, 15)\n",
      "train: (165, 15), test: (18, 15)\n"
     ]
    }
   ],
   "source": [
    "kf = StratifiedKFold(n_splits=10)\n",
    "\n",
    "x_train = []\n",
    "x_test = []\n",
    "\n",
    "y_train = []\n",
    "y_test = []\n",
    "\n",
    "\n",
    "\n",
    "for train, test in kf.split(X,Y):\n",
    "    print('train: %s, test: %s' % (X[train].shape, X[test].shape))\n",
    "    \n",
    "    x_train.append(X[train])\n",
    "    x_test.append(X[test])\n",
    "    \n",
    "    y_train.append(Y[train])\n",
    "    y_test.append(Y[test])\n",
    "    "
   ]
  },
  {
   "cell_type": "code",
   "execution_count": 17,
   "id": "8663b3c8",
   "metadata": {},
   "outputs": [
    {
     "name": "stderr",
     "output_type": "stream",
     "text": [
      "<ipython-input-17-5cc2a5537827>:1: VisibleDeprecationWarning: Creating an ndarray from ragged nested sequences (which is a list-or-tuple of lists-or-tuples-or ndarrays with different lengths or shapes) is deprecated. If you meant to do this, you must specify 'dtype=object' when creating the ndarray.\n",
      "  x_train = np.array(x_train)\n",
      "<ipython-input-17-5cc2a5537827>:2: VisibleDeprecationWarning: Creating an ndarray from ragged nested sequences (which is a list-or-tuple of lists-or-tuples-or ndarrays with different lengths or shapes) is deprecated. If you meant to do this, you must specify 'dtype=object' when creating the ndarray.\n",
      "  x_test = np.array(x_test)\n",
      "<ipython-input-17-5cc2a5537827>:3: VisibleDeprecationWarning: Creating an ndarray from ragged nested sequences (which is a list-or-tuple of lists-or-tuples-or ndarrays with different lengths or shapes) is deprecated. If you meant to do this, you must specify 'dtype=object' when creating the ndarray.\n",
      "  y_train = np.array(y_train)\n",
      "<ipython-input-17-5cc2a5537827>:4: VisibleDeprecationWarning: Creating an ndarray from ragged nested sequences (which is a list-or-tuple of lists-or-tuples-or ndarrays with different lengths or shapes) is deprecated. If you meant to do this, you must specify 'dtype=object' when creating the ndarray.\n",
      "  y_test = np.array(y_test)\n"
     ]
    }
   ],
   "source": [
    "x_train = np.array(x_train)\n",
    "x_test = np.array(x_test)\n",
    "y_train = np.array(y_train)\n",
    "y_test = np.array(y_test)\n",
    "\n",
    "\n",
    "fold_1_train  = x_train[0][:][:]\n",
    "fold_1_test  = x_test[0][:][:]\n",
    "\n",
    "fold_1_train_l  = y_train[0][:][:]\n",
    "fold_1_test_l  = y_test[0][:][:]       \n",
    "\n",
    "\n",
    "fold_2_train  = x_train[1][:][:]\n",
    "fold_2_test  = x_test[1][:][:]\n",
    "\n",
    "fold_2_train_l  = y_train[1][:][:]\n",
    "fold_2_test_l  = y_test[1][:][:]\n",
    "\n",
    "\n",
    "fold_3_train  = x_train[2][:][:]\n",
    "fold_3_test  = x_test[2][:][:]\n",
    "\n",
    "fold_3_train_l  = y_train[2][:][:]\n",
    "fold_3_test_l  = y_test[2][:][:]\n",
    "\n",
    "fold_4_train  = x_train[3][:][:]\n",
    "fold_4_test  = x_test[3][:][:]\n",
    "\n",
    "fold_4_train_l  = y_train[3][:][:]\n",
    "fold_4_test_l  = y_test[3][:][:]\n",
    "\n",
    "\n",
    "fold_5_train  = x_train[4][:][:]\n",
    "fold_5_test  = x_test[4][:][:]\n",
    "\n",
    "fold_5_train_l  = y_train[4][:][:]\n",
    "fold_5_test_l  = y_test[4][:][:]\n",
    "\n",
    "\n",
    "fold_6_train  = x_train[5][:][:]\n",
    "fold_6_test  = x_test[5][:][:]\n",
    "\n",
    "fold_6_train_l  = y_train[5][:][:]\n",
    "fold_6_test_l  = y_test[5][:][:]\n",
    "\n",
    "fold_7_train  = x_train[6][:][:]\n",
    "fold_7_test  = x_test[6][:][:]\n",
    "\n",
    "fold_7_train_l  = y_train[6][:][:]\n",
    "fold_7_test_l  = y_test[6][:][:]\n",
    "\n",
    "fold_8_train  = x_train[7][:][:]\n",
    "fold_8_test  = x_test[7][:][:]\n",
    "\n",
    "fold_8_train_l  = y_train[7][:][:]\n",
    "fold_8_test_l  = y_test[7][:][:]\n",
    "\n",
    "fold_9_train  = x_train[8][:][:]\n",
    "fold_9_test  = x_test[8][:][:]\n",
    "\n",
    "fold_9_train_l  = y_train[8][:][:]\n",
    "fold_9_test_l  = y_test[8][:][:]\n",
    "\n",
    "fold_10_train  = x_train[9][:][:]\n",
    "fold_10_test  = x_test[9][:][:]\n",
    "\n",
    "fold_10_train_l  = y_train[9][:][:]\n",
    "fold_10_test_l  = y_test[9][:][:]\n",
    "        \n",
    "    \n",
    "# print(fold_1_train.shape)\n",
    "# print(fold_2_train.shape)\n",
    "# print(fold_3_train.shape)\n",
    "# print(fold_4_train.shape)\n",
    "# print(fold_5_train.shape)\n",
    "# print(fold_6_train.shape)\n",
    "# print(fold_7_train.shape)\n",
    "# print(fold_8_train.shape)\n",
    "# print(fold_9_train.shape)\n",
    "# print(fold_10_train.shape)\n"
   ]
  },
  {
   "cell_type": "markdown",
   "id": "e311f2d1",
   "metadata": {},
   "source": [
    "# K-fold cross validation"
   ]
  },
  {
   "cell_type": "markdown",
   "id": "7aadfe46",
   "metadata": {},
   "source": [
    "Logistic regression"
   ]
  },
  {
   "cell_type": "code",
   "execution_count": 18,
   "id": "11ac42c7",
   "metadata": {},
   "outputs": [
    {
     "name": "stdout",
     "output_type": "stream",
     "text": [
      "[0.57894737 0.68421053 0.63157895 0.88888889 0.83333333 0.83333333\n",
      " 0.88888889 0.83333333 0.83333333 0.88888889]\n",
      "\n",
      " 0.7894736842105263\n"
     ]
    }
   ],
   "source": [
    "arr = cross_val_score(LogisticRegression(solver='liblinear',multi_class='ovr'), X, Y,cv=10)\n",
    "avg_score = avg(arr)\n",
    "print(arr)\n",
    "print('\\n',avg_score)"
   ]
  },
  {
   "cell_type": "markdown",
   "id": "124ed329",
   "metadata": {},
   "source": [
    "Decision Tree"
   ]
  },
  {
   "cell_type": "code",
   "execution_count": 19,
   "id": "2a67738f",
   "metadata": {},
   "outputs": [
    {
     "name": "stdout",
     "output_type": "stream",
     "text": [
      "[0.52631579 0.73684211 0.63157895 0.83333333 0.72222222 0.72222222\n",
      " 0.88888889 0.88888889 0.83333333 0.83333333]\n",
      "\n",
      " 0.7616959064327485\n"
     ]
    }
   ],
   "source": [
    "arr = cross_val_score(DecisionTreeClassifier(random_state=0), X, Y,cv=10)\n",
    "avg_score = avg(arr)\n",
    "print(arr)\n",
    "print('\\n',avg_score)"
   ]
  },
  {
   "cell_type": "markdown",
   "id": "d4604f1c",
   "metadata": {},
   "source": [
    "Random Forest"
   ]
  },
  {
   "cell_type": "code",
   "execution_count": 20,
   "id": "f9d756c8",
   "metadata": {},
   "outputs": [
    {
     "name": "stdout",
     "output_type": "stream",
     "text": [
      "[0.78947368 0.84210526 0.73684211 0.83333333 0.83333333 0.88888889\n",
      " 0.88888889 0.83333333 0.83333333 0.88888889]\n",
      "\n",
      " 0.8368421052631578\n"
     ]
    }
   ],
   "source": [
    "arr = cross_val_score(RandomForestClassifier(max_depth=4, random_state=4), X, Y,cv=10)\n",
    "avg_score = avg(arr)\n",
    "print(arr)\n",
    "print('\\n',avg_score)"
   ]
  },
  {
   "cell_type": "markdown",
   "id": "4455d743",
   "metadata": {},
   "source": [
    "K nearest neighbors"
   ]
  },
  {
   "cell_type": "code",
   "execution_count": 21,
   "id": "ae19d250",
   "metadata": {},
   "outputs": [
    {
     "name": "stdout",
     "output_type": "stream",
     "text": [
      "[0.78947368 0.78947368 0.73684211 0.83333333 0.77777778 0.88888889\n",
      " 0.88888889 0.83333333 0.83333333 0.94444444]\n",
      "\n",
      " 0.8315789473684211\n"
     ]
    }
   ],
   "source": [
    "arr = cross_val_score(KNeighborsClassifier(n_neighbors=19), X, Y,cv=10)\n",
    "avg_score = avg(arr)\n",
    "print(arr)\n",
    "print('\\n',avg_score)"
   ]
  },
  {
   "cell_type": "markdown",
   "id": "6b7e2b6b",
   "metadata": {},
   "source": [
    "Linear Regression"
   ]
  },
  {
   "cell_type": "code",
   "execution_count": 22,
   "id": "db9e4473",
   "metadata": {},
   "outputs": [
    {
     "name": "stdout",
     "output_type": "stream",
     "text": [
      "[-0.15244467 -0.00854888 -0.81956064  0.42674175 -0.03364842  0.02950503\n",
      "  0.30474921  0.30629466  0.00937815  0.50707021]\n",
      "\n",
      " 0.05695364015432547\n"
     ]
    }
   ],
   "source": [
    "arr = cross_val_score(LinearRegression(), X, Y,cv=10)\n",
    "avg_score = avg(arr)\n",
    "print(arr)\n",
    "print('\\n',avg_score)"
   ]
  },
  {
   "cell_type": "markdown",
   "id": "5f70e2f1",
   "metadata": {},
   "source": [
    "Support vector machine"
   ]
  },
  {
   "cell_type": "code",
   "execution_count": 23,
   "id": "c0764fcd",
   "metadata": {},
   "outputs": [
    {
     "name": "stdout",
     "output_type": "stream",
     "text": [
      "[0.52631579 0.73684211 0.52631579 0.83333333 0.77777778 0.77777778\n",
      " 0.88888889 0.83333333 0.77777778 0.88888889]\n",
      "\n",
      " 0.7567251461988305\n"
     ]
    }
   ],
   "source": [
    "arr = cross_val_score(SVC(kernel=\"linear\",random_state=4), X, Y,cv=10)\n",
    "avg_score = avg(arr)\n",
    "print(arr)\n",
    "print('\\n',avg_score)"
   ]
  },
  {
   "cell_type": "markdown",
   "id": "784d9f0b",
   "metadata": {},
   "source": [
    "LightGBM"
   ]
  },
  {
   "cell_type": "code",
   "execution_count": 24,
   "id": "a9441560",
   "metadata": {},
   "outputs": [],
   "source": [
    "lgb_clf = lgb.LGBMClassifier(learning_rate = 0.05, boosting_type = 'DART',\n",
    "                  objective='binary',\n",
    "                  metric = ['auc','binary_logloss'],\n",
    "                  num_leaves=10,\n",
    "                  max_depth=50 )"
   ]
  },
  {
   "cell_type": "code",
   "execution_count": 25,
   "id": "8df9ecdd",
   "metadata": {},
   "outputs": [
    {
     "name": "stdout",
     "output_type": "stream",
     "text": [
      "[0.78947368 0.78947368 0.63157895 0.77777778 0.77777778 0.83333333\n",
      " 0.94444444 0.83333333 0.83333333 0.83333333]\n",
      "\n",
      " 0.8043859649122806\n"
     ]
    }
   ],
   "source": [
    "arr = cross_val_score(lgb_clf , X, Y,cv=10)\n",
    "avg_score = avg(arr)\n",
    "print(arr)\n",
    "print('\\n',avg_score)"
   ]
  },
  {
   "cell_type": "markdown",
   "id": "462ff32f",
   "metadata": {},
   "source": [
    "# Helper functions"
   ]
  },
  {
   "cell_type": "code",
   "execution_count": 26,
   "id": "8be1c99d",
   "metadata": {},
   "outputs": [],
   "source": [
    "def predicted_class(test_data,prediction,threshold):\n",
    "    \n",
    "    pred = []\n",
    "    \n",
    "    for i in range(0,len(test_data)):\n",
    "        if prediction[i]>=threshold:\n",
    "            pred.append(1)\n",
    "        else:\n",
    "            pred.append(0)\n",
    "            \n",
    "    return pred"
   ]
  },
  {
   "cell_type": "code",
   "execution_count": 27,
   "id": "a3a93d3b",
   "metadata": {},
   "outputs": [],
   "source": [
    "def generate_cm(clf,X_train,Y_train,X_test,Y_test,threshold):\n",
    "\n",
    "    clf.fit(X_train, Y_train)\n",
    "    pred = clf.predict(X_test)\n",
    "\n",
    "    pred = predicted_class(Y_test,pred,threshold)\n",
    "\n",
    "    confusionMatrix  = metrics.confusion_matrix(Y_test,pred)\n",
    "    sns.heatmap(confusionMatrix,annot=True)\n",
    "    plt.title('Confusion Matrix\\n', fontsize = 20)\n",
    "    plt.show()"
   ]
  },
  {
   "cell_type": "markdown",
   "id": "ea796064",
   "metadata": {},
   "source": [
    " "
   ]
  },
  {
   "cell_type": "markdown",
   "id": "31c8461e",
   "metadata": {},
   "source": [
    "# Logistic Regression"
   ]
  },
  {
   "cell_type": "code",
   "execution_count": 28,
   "id": "9274a85e",
   "metadata": {},
   "outputs": [],
   "source": [
    "clf = LogisticRegression(random_state=0).fit(X_train, Y_train)"
   ]
  },
  {
   "cell_type": "code",
   "execution_count": 29,
   "id": "776a05dd",
   "metadata": {},
   "outputs": [],
   "source": [
    "y_pred_logistic = clf.predict(X_test)"
   ]
  },
  {
   "cell_type": "code",
   "execution_count": 30,
   "id": "5519a01e",
   "metadata": {},
   "outputs": [
    {
     "data": {
      "text/plain": [
       "0.8378378378378378"
      ]
     },
     "execution_count": 30,
     "metadata": {},
     "output_type": "execute_result"
    }
   ],
   "source": [
    "clf.score(X_test,Y_test)"
   ]
  },
  {
   "cell_type": "markdown",
   "id": "97dc0c2a",
   "metadata": {},
   "source": [
    "# Decision Tree"
   ]
  },
  {
   "cell_type": "code",
   "execution_count": 31,
   "id": "7ae96a35",
   "metadata": {},
   "outputs": [],
   "source": [
    "decision_tress_clf = DecisionTreeClassifier(random_state=0)"
   ]
  },
  {
   "cell_type": "code",
   "execution_count": 32,
   "id": "27d4e226",
   "metadata": {},
   "outputs": [
    {
     "data": {
      "text/plain": [
       "DecisionTreeClassifier(random_state=0)"
      ]
     },
     "execution_count": 32,
     "metadata": {},
     "output_type": "execute_result"
    }
   ],
   "source": [
    "decision_tress_clf.fit(X_train, Y_train)"
   ]
  },
  {
   "cell_type": "code",
   "execution_count": 33,
   "id": "4f34119a",
   "metadata": {},
   "outputs": [],
   "source": [
    "y_pred_logistic = decision_tress_clf.predict(X_test)"
   ]
  },
  {
   "cell_type": "code",
   "execution_count": 34,
   "id": "a873dec7",
   "metadata": {},
   "outputs": [
    {
     "data": {
      "text/plain": [
       "0.6756756756756757"
      ]
     },
     "execution_count": 34,
     "metadata": {},
     "output_type": "execute_result"
    }
   ],
   "source": [
    "decision_tress_clf.score(X_test, Y_test)"
   ]
  },
  {
   "cell_type": "markdown",
   "id": "7c4a73e6",
   "metadata": {},
   "source": [
    "# Random forest"
   ]
  },
  {
   "cell_type": "code",
   "execution_count": 35,
   "id": "cec91cf9",
   "metadata": {},
   "outputs": [
    {
     "data": {
      "text/plain": [
       "RandomForestClassifier(max_depth=4, random_state=4)"
      ]
     },
     "execution_count": 35,
     "metadata": {},
     "output_type": "execute_result"
    }
   ],
   "source": [
    "rand_forest_clf = RandomForestClassifier(max_depth=4, random_state=4)\n",
    "rand_forest_clf.fit(X_train, Y_train)"
   ]
  },
  {
   "cell_type": "code",
   "execution_count": 36,
   "id": "549e78d0",
   "metadata": {},
   "outputs": [
    {
     "data": {
      "text/plain": [
       "0.8918918918918919"
      ]
     },
     "execution_count": 36,
     "metadata": {},
     "output_type": "execute_result"
    }
   ],
   "source": [
    "rand_forest_clf.score(X_test, Y_test)"
   ]
  },
  {
   "cell_type": "code",
   "execution_count": 37,
   "id": "675e27de",
   "metadata": {},
   "outputs": [],
   "source": [
    "rand_forest_pred = rand_forest_clf.predict(X_test)"
   ]
  },
  {
   "cell_type": "markdown",
   "id": "98b88616",
   "metadata": {},
   "source": [
    "# K-nearest neighbors"
   ]
  },
  {
   "cell_type": "code",
   "execution_count": 38,
   "id": "f0984cb5",
   "metadata": {},
   "outputs": [
    {
     "data": {
      "text/plain": [
       "KNeighborsClassifier(n_neighbors=6)"
      ]
     },
     "execution_count": 38,
     "metadata": {},
     "output_type": "execute_result"
    }
   ],
   "source": [
    "neigh = KNeighborsClassifier(n_neighbors=6)\n",
    "neigh.fit(X_train, Y_train)"
   ]
  },
  {
   "cell_type": "code",
   "execution_count": 39,
   "id": "7e690186",
   "metadata": {},
   "outputs": [],
   "source": [
    "KNN_pred = neigh.predict(X_test)"
   ]
  },
  {
   "cell_type": "code",
   "execution_count": 40,
   "id": "b47186b8",
   "metadata": {},
   "outputs": [
    {
     "data": {
      "text/plain": [
       "0.8648648648648649"
      ]
     },
     "execution_count": 40,
     "metadata": {},
     "output_type": "execute_result"
    }
   ],
   "source": [
    "neigh.score(X_test, Y_test)"
   ]
  },
  {
   "cell_type": "markdown",
   "id": "770852af",
   "metadata": {},
   "source": [
    "# Linear Regression "
   ]
  },
  {
   "cell_type": "code",
   "execution_count": 41,
   "id": "990770b6",
   "metadata": {},
   "outputs": [],
   "source": [
    "reg_clf = LinearRegression().fit(X_train, Y_train)"
   ]
  },
  {
   "cell_type": "code",
   "execution_count": 42,
   "id": "b4955caa",
   "metadata": {},
   "outputs": [],
   "source": [
    "y_pred_reg = reg_clf.predict(X_test)"
   ]
  },
  {
   "cell_type": "code",
   "execution_count": 43,
   "id": "59a45226",
   "metadata": {},
   "outputs": [],
   "source": [
    "pred_reg = []\n",
    "\n",
    "for i in range(0,len(Y_test)):\n",
    "    if y_pred_reg[i]>= 0.25:\n",
    "        pred_reg.append(1)\n",
    "    else:\n",
    "        pred_reg.append(0)"
   ]
  },
  {
   "cell_type": "markdown",
   "id": "457d2c39",
   "metadata": {},
   "source": [
    "# Testing the Linear Regression Model"
   ]
  },
  {
   "cell_type": "code",
   "execution_count": 44,
   "id": "555e98b6",
   "metadata": {},
   "outputs": [
    {
     "data": {
      "image/png": "[encoded data removed]",
      "text/plain": [
       "<Figure size 432x288 with 2 Axes>"
      ]
     },
     "metadata": {
      "needs_background": "light"
     },
     "output_type": "display_data"
    },
    {
     "data": {
      "image/png": "[encoded data removed]",
      "text/plain": [
       "<Figure size 432x288 with 2 Axes>"
      ]
     },
     "metadata": {
      "needs_background": "light"
     },
     "output_type": "display_data"
    },
    {
     "data": {
      "image/png": "[encoded data removed]",
      "text/plain": [
       "<Figure size 432x288 with 2 Axes>"
      ]
     },
     "metadata": {
      "needs_background": "light"
     },
     "output_type": "display_data"
    },
    {
     "data": {
      "image/png": "[encoded data removed]",
      "text/plain": [
       "<Figure size 432x288 with 2 Axes>"
      ]
     },
     "metadata": {
      "needs_background": "light"
     },
     "output_type": "display_data"
    },
    {
     "data": {
      "image/png": "[encoded data removed]",
      "text/plain": [
       "<Figure size 432x288 with 2 Axes>"
      ]
     },
     "metadata": {
      "needs_background": "light"
     },
     "output_type": "display_data"
    },
    {
     "data": {
      "image/png": "[encoded data removed]",
      "text/plain": [
       "<Figure size 432x288 with 2 Axes>"
      ]
     },
     "metadata": {
      "needs_background": "light"
     },
     "output_type": "display_data"
    },
    {
     "data": {
      "image/png": "[encoded data removed]",
      "text/plain": [
       "<Figure size 432x288 with 2 Axes>"
      ]
     },
     "metadata": {
      "needs_background": "light"
     },
     "output_type": "display_data"
    },
    {
     "data": {
      "image/png": "[encoded data removed]",
      "text/plain": [
       "<Figure size 432x288 with 2 Axes>"
      ]
     },
     "metadata": {
      "needs_background": "light"
     },
     "output_type": "display_data"
    },
    {
     "data": {
      "image/png": "[encoded data removed]",
      "text/plain": [
       "<Figure size 432x288 with 2 Axes>"
      ]
     },
     "metadata": {
      "needs_background": "light"
     },
     "output_type": "display_data"
    },
    {
     "data": {
      "image/png": "[encoded data removed]",
      "text/plain": [
       "<Figure size 432x288 with 2 Axes>"
      ]
     },
     "metadata": {
      "needs_background": "light"
     },
     "output_type": "display_data"
    }
   ],
   "source": [
    "generate_cm(reg_clf,fold_1_train,fold_1_train_l,fold_1_test,fold_1_test_l,0.25)\n",
    "generate_cm(reg_clf,fold_2_train,fold_2_train_l,fold_2_test,fold_2_test_l,0.25)\n",
    "generate_cm(reg_clf,fold_3_train,fold_3_train_l,fold_3_test,fold_3_test_l,0.25)\n",
    "generate_cm(reg_clf,fold_4_train,fold_4_train_l,fold_4_test,fold_4_test_l,0.25)\n",
    "generate_cm(reg_clf,fold_5_train,fold_5_train_l,fold_5_test,fold_5_test_l,0.25)\n",
    "    \n",
    "generate_cm(reg_clf,fold_6_train,fold_6_train_l,fold_6_test,fold_6_test_l,0.25)\n",
    "generate_cm(reg_clf,fold_7_train,fold_7_train_l,fold_7_test,fold_7_test_l,0.25)\n",
    "generate_cm(reg_clf,fold_8_train,fold_8_train_l,fold_8_test,fold_8_test_l,0.25)\n",
    "generate_cm(reg_clf,fold_9_train,fold_9_train_l,fold_9_test,fold_9_test_l,0.25)\n",
    "generate_cm(reg_clf,fold_10_train,fold_10_train_l,fold_10_test,fold_10_test_l,0.25)"
   ]
  },
  {
   "cell_type": "code",
   "execution_count": 45,
   "id": "02daa23e",
   "metadata": {},
   "outputs": [
    {
     "name": "stdout",
     "output_type": "stream",
     "text": [
      "              precision    recall  f1-score   support\n",
      "\n",
      "           0       0.96      0.77      0.85        30\n",
      "           1       0.46      0.86      0.60         7\n",
      "\n",
      "    accuracy                           0.78        37\n",
      "   macro avg       0.71      0.81      0.73        37\n",
      "weighted avg       0.86      0.78      0.80        37\n",
      "\n"
     ]
    },
    {
     "data": {
      "image/png": "[encoded data removed]",
      "text/plain": [
       "<Figure size 432x288 with 2 Axes>"
      ]
     },
     "metadata": {
      "needs_background": "light"
     },
     "output_type": "display_data"
    }
   ],
   "source": [
    "svm_confusionMatrix  = metrics.confusion_matrix(Y_test,pred_reg)\n",
    "print(metrics.classification_report(Y_test,pred_reg))\n",
    "sns.heatmap(svm_confusionMatrix,annot=True)\n",
    "plt.title('Confusion Matrix (Linear Regression)\\n', fontsize = 20)\n",
    "plt.show()"
   ]
  },
  {
   "cell_type": "markdown",
   "id": "62e52d3f",
   "metadata": {},
   "source": [
    "# SVM model"
   ]
  },
  {
   "cell_type": "code",
   "execution_count": 46,
   "id": "84c17418",
   "metadata": {},
   "outputs": [
    {
     "data": {
      "text/plain": [
       "SVC(kernel='linear', random_state=4)"
      ]
     },
     "execution_count": 46,
     "metadata": {},
     "output_type": "execute_result"
    }
   ],
   "source": [
    "svm_clf = SVC(kernel=\"linear\",random_state=4)\n",
    "svm_clf.fit(X_train, Y_train)"
   ]
  },
  {
   "cell_type": "code",
   "execution_count": 47,
   "id": "dfc3beee",
   "metadata": {},
   "outputs": [],
   "source": [
    "y_pred_svm = svm_clf.decision_function(X_test)"
   ]
  },
  {
   "cell_type": "code",
   "execution_count": 48,
   "id": "96549586",
   "metadata": {},
   "outputs": [],
   "source": [
    "pred_svm = []\n",
    "for i in range(0,len(Y_test)):\n",
    "    if y_pred_svm[i]>=-0.874056:\n",
    "        pred_svm.append(1)\n",
    "    else:\n",
    "        pred_svm.append(0)"
   ]
  },
  {
   "cell_type": "code",
   "execution_count": 83,
   "id": "d7b2e83a",
   "metadata": {},
   "outputs": [],
   "source": [
    "def generate_cm_svm(clf,X_train,Y_train,X_test,Y_test,threshold):\n",
    "\n",
    "    clf.fit(X_train, Y_train)\n",
    "    pred = clf.decision_function(X_test)\n",
    "    pred = predicted_class(Y_test,pred,threshold)\n",
    "\n",
    "    confusionMatrix  = metrics.confusion_matrix(Y_test,pred)\n",
    "    sns.heatmap(confusionMatrix,annot=True)\n",
    "    plt.title('Confusion Matrix(LightGbm)\\n', fontsize = 20)\n",
    "    plt.show()"
   ]
  },
  {
   "cell_type": "code",
   "execution_count": 84,
   "id": "7fc46ede",
   "metadata": {},
   "outputs": [
    {
     "data": {
      "image/png": "[encoded data removed]",
      "text/plain": [
       "<Figure size 432x288 with 2 Axes>"
      ]
     },
     "metadata": {
      "needs_background": "light"
     },
     "output_type": "display_data"
    },
    {
     "data": {
      "image/png": "[encoded data removed]",
      "text/plain": [
       "<Figure size 432x288 with 2 Axes>"
      ]
     },
     "metadata": {
      "needs_background": "light"
     },
     "output_type": "display_data"
    },
    {
     "data": {
      "image/png": "[encoded data removed]",
      "text/plain": [
       "<Figure size 432x288 with 2 Axes>"
      ]
     },
     "metadata": {
      "needs_background": "light"
     },
     "output_type": "display_data"
    },
    {
     "data": {
      "image/png": "[encoded data removed]",
      "text/plain": [
       "<Figure size 432x288 with 2 Axes>"
      ]
     },
     "metadata": {
      "needs_background": "light"
     },
     "output_type": "display_data"
    },
    {
     "data": {
      "image/png": "[encoded data removed]",
      "text/plain": [
       "<Figure size 432x288 with 2 Axes>"
      ]
     },
     "metadata": {
      "needs_background": "light"
     },
     "output_type": "display_data"
    },
    {
     "data": {
      "image/png": "[encoded data removed]",
      "text/plain": [
       "<Figure size 432x288 with 2 Axes>"
      ]
     },
     "metadata": {
      "needs_background": "light"
     },
     "output_type": "display_data"
    },
    {
     "data": {
      "image/png": "[encoded data removed]",
      "text/plain": [
       "<Figure size 432x288 with 2 Axes>"
      ]
     },
     "metadata": {
      "needs_background": "light"
     },
     "output_type": "display_data"
    },
    {
     "data": {
      "image/png": "[encoded data removed]",
      "text/plain": [
       "<Figure size 432x288 with 2 Axes>"
      ]
     },
     "metadata": {
      "needs_background": "light"
     },
     "output_type": "display_data"
    },
    {
     "data": {
      "image/png": "[encoded data removed]",
      "text/plain": [
       "<Figure size 432x288 with 2 Axes>"
      ]
     },
     "metadata": {
      "needs_background": "light"
     },
     "output_type": "display_data"
    },
    {
     "data": {
      "image/png": "[encoded data removed]",
      "text/plain": [
       "<Figure size 432x288 with 2 Axes>"
      ]
     },
     "metadata": {
      "needs_background": "light"
     },
     "output_type": "display_data"
    }
   ],
   "source": [
    "generate_cm_svm(svm_clf,fold_1_train,fold_1_train_l,fold_1_test,fold_1_test_l,-0.865222)\n",
    "generate_cm_svm(svm_clf,fold_2_train,fold_2_train_l,fold_2_test,fold_2_test_l,-0.865222)\n",
    "generate_cm_svm(svm_clf,fold_3_train,fold_3_train_l,fold_3_test,fold_3_test_l,-0.865222)\n",
    "generate_cm_svm(svm_clf,fold_4_train,fold_4_train_l,fold_4_test,fold_4_test_l,-0.865222)\n",
    "generate_cm_svm(svm_clf,fold_5_train,fold_5_train_l,fold_5_test,fold_5_test_l,-0.865222)\n",
    "    \n",
    "generate_cm_svm(svm_clf,fold_6_train,fold_6_train_l,fold_6_test,fold_6_test_l,-0.865222)\n",
    "generate_cm_svm(svm_clf,fold_7_train,fold_7_train_l,fold_7_test,fold_7_test_l,-0.865222)\n",
    "generate_cm_svm(svm_clf,fold_8_train,fold_8_train_l,fold_8_test,fold_8_test_l,-0.865222)\n",
    "generate_cm_svm(svm_clf,fold_9_train,fold_9_train_l,fold_9_test,fold_9_test_l,-0.865222)\n",
    "generate_cm_svm(svm_clf,fold_10_train,fold_10_train_l,fold_10_test,fold_10_test_l,-0.865222)"
   ]
  },
  {
   "cell_type": "markdown",
   "id": "6accc9c3",
   "metadata": {},
   "source": [
    "# SVM on Separate Test Data"
   ]
  },
  {
   "cell_type": "code",
   "execution_count": 51,
   "id": "a6cf87f4",
   "metadata": {},
   "outputs": [],
   "source": [
    "y_pred_svm_test = svm_clf.decision_function(T)"
   ]
  },
  {
   "cell_type": "code",
   "execution_count": 52,
   "id": "e2ffb1e0",
   "metadata": {},
   "outputs": [],
   "source": [
    "pred_svm_test = predicted_class(Y_,y_pred_svm_test,-0.865222)"
   ]
  },
  {
   "cell_type": "code",
   "execution_count": 53,
   "id": "7328580a",
   "metadata": {},
   "outputs": [
    {
     "name": "stdout",
     "output_type": "stream",
     "text": [
      "              precision    recall  f1-score   support\n",
      "\n",
      "           0       0.80      0.83      0.82        24\n",
      "           1       0.20      0.17      0.18         6\n",
      "\n",
      "    accuracy                           0.70        30\n",
      "   macro avg       0.50      0.50      0.50        30\n",
      "weighted avg       0.68      0.70      0.69        30\n",
      "\n"
     ]
    },
    {
     "data": {
      "image/png": "[encoded data removed]",
      "text/plain": [
       "<Figure size 432x288 with 2 Axes>"
      ]
     },
     "metadata": {
      "needs_background": "light"
     },
     "output_type": "display_data"
    }
   ],
   "source": [
    "svm_confusionMatrix  = metrics.confusion_matrix(Y_,pred_svm_test)\n",
    "print(metrics.classification_report(Y_,pred_svm_test))\n",
    "sns.heatmap(svm_confusionMatrix,annot=True)\n",
    "plt.title('Confusion Matrix (SVM)\\n', fontsize = 20)\n",
    "plt.show()"
   ]
  },
  {
   "cell_type": "markdown",
   "id": "f7e7f837",
   "metadata": {},
   "source": [
    "# Lgbm Model"
   ]
  },
  {
   "cell_type": "code",
   "execution_count": 54,
   "id": "24a3b5d7",
   "metadata": {},
   "outputs": [],
   "source": [
    "lgb_clf = lgb.LGBMRegressor(learning_rate = 0.05, boosting_type = 'DART',\n",
    "                  objective='binary',\n",
    "                  metric = ['auc','binary_logloss'],\n",
    "                  num_leaves=10,\n",
    "                  max_depth=50 )"
   ]
  },
  {
   "cell_type": "markdown",
   "id": "45bdebdc",
   "metadata": {},
   "source": [
    "# Testing the Lgbm Model"
   ]
  },
  {
   "cell_type": "code",
   "execution_count": 55,
   "id": "8f02447d",
   "metadata": {},
   "outputs": [
    {
     "data": {
      "image/png": "[encoded data removed]",
      "text/plain": [
       "<Figure size 432x288 with 2 Axes>"
      ]
     },
     "metadata": {
      "needs_background": "light"
     },
     "output_type": "display_data"
    },
    {
     "data": {
      "image/png": "[encoded data removed]",
      "text/plain": [
       "<Figure size 432x288 with 2 Axes>"
      ]
     },
     "metadata": {
      "needs_background": "light"
     },
     "output_type": "display_data"
    },
    {
     "data": {
      "image/png": "[encoded data removed]",
      "text/plain": [
       "<Figure size 432x288 with 2 Axes>"
      ]
     },
     "metadata": {
      "needs_background": "light"
     },
     "output_type": "display_data"
    },
    {
     "data": {
      "image/png": "[encoded data removed]",
      "text/plain": [
       "<Figure size 432x288 with 2 Axes>"
      ]
     },
     "metadata": {
      "needs_background": "light"
     },
     "output_type": "display_data"
    },
    {
     "data": {
      "image/png": "[encoded data removed]",
      "text/plain": [
       "<Figure size 432x288 with 2 Axes>"
      ]
     },
     "metadata": {
      "needs_background": "light"
     },
     "output_type": "display_data"
    },
    {
     "data": {
      "image/png": "[encoded data removed]",
      "text/plain": [
       "<Figure size 432x288 with 2 Axes>"
      ]
     },
     "metadata": {
      "needs_background": "light"
     },
     "output_type": "display_data"
    },
    {
     "data": {
      "image/png": "[encoded data removed]",
      "text/plain": [
       "<Figure size 432x288 with 2 Axes>"
      ]
     },
     "metadata": {
      "needs_background": "light"
     },
     "output_type": "display_data"
    },
    {
     "data": {
      "image/png": "[encoded data removed]",
      "text/plain": [
       "<Figure size 432x288 with 2 Axes>"
      ]
     },
     "metadata": {
      "needs_background": "light"
     },
     "output_type": "display_data"
    },
    {
     "data": {
      "image/png": "[encoded data removed]",
      "text/plain": [
       "<Figure size 432x288 with 2 Axes>"
      ]
     },
     "metadata": {
      "needs_background": "light"
     },
     "output_type": "display_data"
    },
    {
     "data": {
      "image/png": "[encoded data removed]",
      "text/plain": [
       "<Figure size 432x288 with 2 Axes>"
      ]
     },
     "metadata": {
      "needs_background": "light"
     },
     "output_type": "display_data"
    }
   ],
   "source": [
    "generate_cm(lgb_clf,fold_1_train,fold_1_train_l,fold_1_test,fold_1_test_l,0.27)\n",
    "generate_cm(lgb_clf,fold_2_train,fold_2_train_l,fold_2_test,fold_2_test_l,0.27)\n",
    "generate_cm(lgb_clf,fold_3_train,fold_3_train_l,fold_3_test,fold_3_test_l,0.27)\n",
    "generate_cm(lgb_clf,fold_4_train,fold_4_train_l,fold_4_test,fold_4_test_l,0.27)\n",
    "generate_cm(lgb_clf,fold_5_train,fold_5_train_l,fold_5_test,fold_5_test_l,0.27)\n",
    "    \n",
    "generate_cm(lgb_clf,fold_6_train,fold_6_train_l,fold_6_test,fold_6_test_l,0.27)\n",
    "generate_cm(lgb_clf,fold_7_train,fold_7_train_l,fold_7_test,fold_7_test_l,0.27)\n",
    "generate_cm(lgb_clf,fold_8_train,fold_8_train_l,fold_8_test,fold_8_test_l,0.27)\n",
    "generate_cm(lgb_clf,fold_9_train,fold_9_train_l,fold_9_test,fold_9_test_l,0.27)\n",
    "generate_cm(lgb_clf,fold_10_train,fold_10_train_l,fold_10_test,fold_10_test_l,0.27)"
   ]
  },
  {
   "cell_type": "code",
   "execution_count": 56,
   "id": "c723f1e8",
   "metadata": {},
   "outputs": [],
   "source": [
    "y_pred_lgbm = lgb_clf.predict(X_test)"
   ]
  },
  {
   "cell_type": "code",
   "execution_count": 57,
   "id": "e23832d9",
   "metadata": {},
   "outputs": [],
   "source": [
    "pred_lgbm = []\n",
    "\n",
    "for i in range(0,len(X_test)):\n",
    "    if y_pred_lgbm[i]>=0.27:\n",
    "        pred_lgbm.append(1)\n",
    "    else:\n",
    "        pred_lgbm.append(0)"
   ]
  },
  {
   "cell_type": "code",
   "execution_count": 80,
   "id": "338dc572",
   "metadata": {},
   "outputs": [
    {
     "name": "stdout",
     "output_type": "stream",
     "text": [
      "              precision    recall  f1-score   support\n",
      "\n",
      "           0       1.00      0.83      0.91        30\n",
      "           1       0.58      1.00      0.74         7\n",
      "\n",
      "    accuracy                           0.86        37\n",
      "   macro avg       0.79      0.92      0.82        37\n",
      "weighted avg       0.92      0.86      0.88        37\n",
      "\n"
     ]
    },
    {
     "data": {
      "image/png": "[encoded data removed]",
      "text/plain": [
       "<Figure size 432x288 with 2 Axes>"
      ]
     },
     "metadata": {
      "needs_background": "light"
     },
     "output_type": "display_data"
    }
   ],
   "source": [
    "lgbm_confusionMatrix  = metrics.confusion_matrix(Y_test,pred_lgbm)\n",
    "print(metrics.classification_report(Y_test,pred_lgbm))\n",
    "\n",
    "sns.heatmap(lgbm_confusionMatrix,annot=True)\n",
    "plt.title('Confusion Matrix(Lgbm)\\n', fontsize = 20)\n",
    "plt.show()"
   ]
  },
  {
   "cell_type": "markdown",
   "id": "290b8a65",
   "metadata": {},
   "source": [
    "# Lgbm on separate test data"
   ]
  },
  {
   "cell_type": "code",
   "execution_count": 59,
   "id": "415b3f5c",
   "metadata": {},
   "outputs": [],
   "source": [
    "y_pred_lgbm_test = lgb_clf.predict(T)"
   ]
  },
  {
   "cell_type": "code",
   "execution_count": 60,
   "id": "3f7800ed",
   "metadata": {},
   "outputs": [],
   "source": [
    "pred_lgbm_test = predicted_class(Y_,y_pred_lgbm_test,0.27)"
   ]
  },
  {
   "cell_type": "code",
   "execution_count": 61,
   "id": "d0813c69",
   "metadata": {},
   "outputs": [
    {
     "name": "stdout",
     "output_type": "stream",
     "text": [
      "              precision    recall  f1-score   support\n",
      "\n",
      "           0       0.90      0.75      0.82        24\n",
      "           1       0.40      0.67      0.50         6\n",
      "\n",
      "    accuracy                           0.73        30\n",
      "   macro avg       0.65      0.71      0.66        30\n",
      "weighted avg       0.80      0.73      0.75        30\n",
      "\n"
     ]
    },
    {
     "data": {
      "image/png": "[encoded data removed]",
      "text/plain": [
       "<Figure size 432x288 with 2 Axes>"
      ]
     },
     "metadata": {
      "needs_background": "light"
     },
     "output_type": "display_data"
    }
   ],
   "source": [
    "rand_forest_confusionMatrix  = metrics.confusion_matrix(Y_,pred_lgbm_test)\n",
    "print(metrics.classification_report(Y_,pred_lgbm_test))\n",
    "\n",
    "sns.heatmap(rand_forest_confusionMatrix,annot=True)\n",
    "plt.title('Confusion Matrix(Lgbm)\\n', fontsize = 20)\n",
    "plt.show()"
   ]
  },
  {
   "cell_type": "markdown",
   "id": "85a53884",
   "metadata": {},
   "source": [
    "# XGboost"
   ]
  },
  {
   "cell_type": "code",
   "execution_count": 62,
   "id": "d5b0c06c",
   "metadata": {},
   "outputs": [
    {
     "name": "stdout",
     "output_type": "stream",
     "text": [
      "[0]\tvalidation_0-auc:0.85238\n",
      "[1]\tvalidation_0-auc:0.85238\n",
      "[2]\tvalidation_0-auc:0.85238\n",
      "[3]\tvalidation_0-auc:0.85238\n",
      "[4]\tvalidation_0-auc:0.85238\n",
      "[5]\tvalidation_0-auc:0.85238\n",
      "[6]\tvalidation_0-auc:0.85238\n",
      "[7]\tvalidation_0-auc:0.85238\n",
      "[8]\tvalidation_0-auc:0.85238\n",
      "[9]\tvalidation_0-auc:0.85238\n"
     ]
    }
   ],
   "source": [
    "clf_xgb = xgb.XGBClassifier(objective='binary:logistic',seed=42,booster='gblinear',learning_rate=0.01,eval_metric = 'auc',use_label_encoder=False)\n",
    "\n",
    "clf_xgb.fit(X_train,\n",
    "            Y_train,\n",
    "            verbose=True,\n",
    "            early_stopping_rounds = 10,\n",
    "            eval_set = [(X_test,Y_test)]\n",
    ")\n",
    "\n",
    "score_arr =  cross_val_score(clf_xgb, X, Y,cv=10)"
   ]
  },
  {
   "cell_type": "markdown",
   "id": "f80eb2b0",
   "metadata": {},
   "source": [
    "# Xgboost on separate test data"
   ]
  },
  {
   "cell_type": "code",
   "execution_count": 63,
   "id": "59075008",
   "metadata": {},
   "outputs": [],
   "source": [
    "y_pred = clf_xgb.predict(T)"
   ]
  },
  {
   "cell_type": "code",
   "execution_count": 64,
   "id": "817d6009",
   "metadata": {},
   "outputs": [
    {
     "name": "stdout",
     "output_type": "stream",
     "text": [
      "              precision    recall  f1-score   support\n",
      "\n",
      "           0       0.84      0.88      0.86        24\n",
      "           1       0.40      0.33      0.36         6\n",
      "\n",
      "    accuracy                           0.77        30\n",
      "   macro avg       0.62      0.60      0.61        30\n",
      "weighted avg       0.75      0.77      0.76        30\n",
      "\n"
     ]
    },
    {
     "data": {
      "image/png": "[encoded data removed]",
      "text/plain": [
       "<Figure size 432x288 with 2 Axes>"
      ]
     },
     "metadata": {
      "needs_background": "light"
     },
     "output_type": "display_data"
    }
   ],
   "source": [
    "rand_forest_confusionMatrix  = metrics.confusion_matrix(Y_,y_pred)\n",
    "print(metrics.classification_report(Y_,y_pred))\n",
    "\n",
    "sns.heatmap(rand_forest_confusionMatrix,annot=True)\n",
    "plt.title('Confusion Matrix(Xgboost)\\n', fontsize = 20)\n",
    "plt.show()"
   ]
  },
  {
   "cell_type": "markdown",
   "id": "2fa0cb16",
   "metadata": {},
   "source": [
    "====================================================Accuracy Score========================================================"
   ]
  },
  {
   "cell_type": "markdown",
   "id": "34b4a372",
   "metadata": {},
   "source": [
    " "
   ]
  },
  {
   "cell_type": "markdown",
   "id": "c2669d65",
   "metadata": {},
   "source": [
    "# Accuracy score"
   ]
  },
  {
   "cell_type": "code",
   "execution_count": 65,
   "id": "fc66dec3",
   "metadata": {},
   "outputs": [
    {
     "name": "stdout",
     "output_type": "stream",
     "text": [
      "Accuracy score of lgbm:  0.8648648648648649\n",
      "Accuracy score of svm:  0.8108108108108109\n",
      "Accuracy score of linear regression:  0.7837837837837838\n"
     ]
    }
   ],
   "source": [
    "print(\"Accuracy score of lgbm: \",metrics.accuracy_score(Y_test, pred_lgbm))\n",
    "print(\"Accuracy score of svm: \",metrics.accuracy_score(Y_test, pred_svm))\n",
    "print(\"Accuracy score of linear regression: \",metrics.accuracy_score(Y_test, pred_reg))"
   ]
  },
  {
   "cell_type": "markdown",
   "id": "23e9c084",
   "metadata": {},
   "source": [
    "# AUC score"
   ]
  },
  {
   "cell_type": "code",
   "execution_count": 66,
   "id": "02309a4f",
   "metadata": {},
   "outputs": [
    {
     "name": "stdout",
     "output_type": "stream",
     "text": [
      "AUC scrore for lgbm:  0.7916666666666667\n",
      "AUC scrore for SVM:  0.73\n",
      "AUC scrore for linear regression:  0.7099358974358975\n"
     ]
    }
   ],
   "source": [
    "print(\"AUC scrore for lgbm: \",metrics.roc_auc_score(pred_lgbm,Y_test))\n",
    "print(\"AUC scrore for SVM: \",metrics.roc_auc_score(pred_svm,Y_test))\n",
    "print(\"AUC scrore for linear regression: \",metrics.roc_auc_score(pred_reg,Y_test))"
   ]
  },
  {
   "cell_type": "markdown",
   "id": "30ddd84f",
   "metadata": {},
   "source": [
    " "
   ]
  },
  {
   "cell_type": "markdown",
   "id": "fdfdb51c",
   "metadata": {},
   "source": [
    "=================================================Confusion Matrix======================================================="
   ]
  },
  {
   "cell_type": "markdown",
   "id": "6556d955",
   "metadata": {},
   "source": [
    " "
   ]
  },
  {
   "cell_type": "markdown",
   "id": "d1106835",
   "metadata": {},
   "source": [
    "# Confusion matrix (Linear Regression)"
   ]
  },
  {
   "cell_type": "code",
   "execution_count": 67,
   "id": "b81a0d97",
   "metadata": {},
   "outputs": [
    {
     "name": "stdout",
     "output_type": "stream",
     "text": [
      "              precision    recall  f1-score   support\n",
      "\n",
      "           0       0.96      0.77      0.85        30\n",
      "           1       0.46      0.86      0.60         7\n",
      "\n",
      "    accuracy                           0.78        37\n",
      "   macro avg       0.71      0.81      0.73        37\n",
      "weighted avg       0.86      0.78      0.80        37\n",
      "\n"
     ]
    },
    {
     "data": {
      "image/png": "[encoded data removed]",
      "text/plain": [
       "<Figure size 432x288 with 2 Axes>"
      ]
     },
     "metadata": {
      "needs_background": "light"
     },
     "output_type": "display_data"
    }
   ],
   "source": [
    "rand_forest_confusionMatrix  = metrics.confusion_matrix(Y_test,pred_reg)\n",
    "print(metrics.classification_report(Y_test,pred_reg))\n",
    "\n",
    "sns.heatmap(rand_forest_confusionMatrix,annot=True)\n",
    "plt.title('Confusion Matrix(Linear Regression)\\n', fontsize = 20)\n",
    "plt.show()"
   ]
  },
  {
   "cell_type": "markdown",
   "id": "4af5fff8",
   "metadata": {},
   "source": [
    "# Confusion matrix (logistic regression)"
   ]
  },
  {
   "cell_type": "code",
   "execution_count": 68,
   "id": "7438187d",
   "metadata": {},
   "outputs": [
    {
     "name": "stdout",
     "output_type": "stream",
     "text": [
      "              precision    recall  f1-score   support\n",
      "\n",
      "           0       0.82      0.77      0.79        30\n",
      "           1       0.22      0.29      0.25         7\n",
      "\n",
      "    accuracy                           0.68        37\n",
      "   macro avg       0.52      0.53      0.52        37\n",
      "weighted avg       0.71      0.68      0.69        37\n",
      "\n"
     ]
    },
    {
     "data": {
      "image/png": "[encoded data removed]",
      "text/plain": [
       "<Figure size 432x288 with 2 Axes>"
      ]
     },
     "metadata": {
      "needs_background": "light"
     },
     "output_type": "display_data"
    }
   ],
   "source": [
    "logistic_confusionMatrix  = metrics.confusion_matrix(Y_test,y_pred_logistic)\n",
    "print(metrics.classification_report(Y_test,y_pred_logistic))\n",
    "\n",
    "sns.heatmap(logistic_confusionMatrix,annot=True)\n",
    "plt.title('Confusion Matrix(Logistic Regression)\\n', fontsize = 20)\n",
    "plt.show()"
   ]
  },
  {
   "cell_type": "markdown",
   "id": "c6131534",
   "metadata": {},
   "source": [
    "# Confusion matrix (Random Forest)"
   ]
  },
  {
   "cell_type": "code",
   "execution_count": 69,
   "id": "679608c0",
   "metadata": {},
   "outputs": [
    {
     "name": "stdout",
     "output_type": "stream",
     "text": [
      "              precision    recall  f1-score   support\n",
      "\n",
      "           0       0.88      1.00      0.94        30\n",
      "           1       1.00      0.43      0.60         7\n",
      "\n",
      "    accuracy                           0.89        37\n",
      "   macro avg       0.94      0.71      0.77        37\n",
      "weighted avg       0.90      0.89      0.87        37\n",
      "\n"
     ]
    },
    {
     "data": {
      "image/png": "[encoded data removed]",
      "text/plain": [
       "<Figure size 432x288 with 2 Axes>"
      ]
     },
     "metadata": {
      "needs_background": "light"
     },
     "output_type": "display_data"
    }
   ],
   "source": [
    "logistic_confusionMatrix  = metrics.confusion_matrix(Y_test,rand_forest_pred)\n",
    "print(metrics.classification_report(Y_test,rand_forest_pred))\n",
    "\n",
    "sns.heatmap(logistic_confusionMatrix,annot=True)\n",
    "plt.title('Confusion Matrix(Logistic Regression)\\n', fontsize = 20)\n",
    "plt.show()"
   ]
  },
  {
   "cell_type": "markdown",
   "id": "2e963bf4",
   "metadata": {},
   "source": [
    "# Confusion matrix (KNN)"
   ]
  },
  {
   "cell_type": "code",
   "execution_count": 70,
   "id": "0763653c",
   "metadata": {},
   "outputs": [
    {
     "name": "stdout",
     "output_type": "stream",
     "text": [
      "              precision    recall  f1-score   support\n",
      "\n",
      "           0       0.86      1.00      0.92        30\n",
      "           1       1.00      0.29      0.44         7\n",
      "\n",
      "    accuracy                           0.86        37\n",
      "   macro avg       0.93      0.64      0.68        37\n",
      "weighted avg       0.88      0.86      0.83        37\n",
      "\n"
     ]
    },
    {
     "data": {
      "image/png": "[encoded data removed]",
      "text/plain": [
       "<Figure size 432x288 with 2 Axes>"
      ]
     },
     "metadata": {
      "needs_background": "light"
     },
     "output_type": "display_data"
    }
   ],
   "source": [
    "logistic_confusionMatrix  = metrics.confusion_matrix(Y_test,KNN_pred)\n",
    "print(metrics.classification_report(Y_test,KNN_pred))\n",
    "\n",
    "sns.heatmap(logistic_confusionMatrix,annot=True)\n",
    "plt.title('Confusion Matrix(Logistic Regression)\\n', fontsize = 20)\n",
    "plt.show()"
   ]
  },
  {
   "cell_type": "markdown",
   "id": "f3ffb4eb",
   "metadata": {},
   "source": [
    "# Confusion matrix (Lgbm)"
   ]
  },
  {
   "cell_type": "code",
   "execution_count": 71,
   "id": "9a9e2bdc",
   "metadata": {},
   "outputs": [
    {
     "name": "stdout",
     "output_type": "stream",
     "text": [
      "              precision    recall  f1-score   support\n",
      "\n",
      "           0       1.00      0.83      0.91        30\n",
      "           1       0.58      1.00      0.74         7\n",
      "\n",
      "    accuracy                           0.86        37\n",
      "   macro avg       0.79      0.92      0.82        37\n",
      "weighted avg       0.92      0.86      0.88        37\n",
      "\n"
     ]
    },
    {
     "data": {
      "image/png": "[encoded data removed]",
      "text/plain": [
       "<Figure size 432x288 with 2 Axes>"
      ]
     },
     "metadata": {
      "needs_background": "light"
     },
     "output_type": "display_data"
    }
   ],
   "source": [
    "lgbm_confusionMatrix  = metrics.confusion_matrix(Y_test,pred_lgbm)\n",
    "print(metrics.classification_report(Y_test,pred_lgbm))\n",
    "sns.heatmap(lgbm_confusionMatrix,annot=True)\n",
    "plt.title('Confusion Matrix(LightGbm)\\n', fontsize = 20)\n",
    "plt.show()"
   ]
  },
  {
   "cell_type": "markdown",
   "id": "1aa947c0",
   "metadata": {},
   "source": [
    "# Confusion matrix (SVM)"
   ]
  },
  {
   "cell_type": "code",
   "execution_count": 72,
   "id": "ccf19b51",
   "metadata": {},
   "outputs": [
    {
     "name": "stdout",
     "output_type": "stream",
     "text": [
      "              precision    recall  f1-score   support\n",
      "\n",
      "           0       0.96      0.80      0.87        30\n",
      "           1       0.50      0.86      0.63         7\n",
      "\n",
      "    accuracy                           0.81        37\n",
      "   macro avg       0.73      0.83      0.75        37\n",
      "weighted avg       0.87      0.81      0.83        37\n",
      "\n"
     ]
    },
    {
     "data": {
      "image/png": "[encoded data removed]",
      "text/plain": [
       "<Figure size 432x288 with 2 Axes>"
      ]
     },
     "metadata": {
      "needs_background": "light"
     },
     "output_type": "display_data"
    }
   ],
   "source": [
    "svm_confusionMatrix  = metrics.confusion_matrix(Y_test,pred_svm)\n",
    "print(metrics.classification_report(Y_test,pred_svm))\n",
    "sns.heatmap(svm_confusionMatrix,annot=True)\n",
    "plt.title('Confusion Matrix (SVM)\\n', fontsize = 20)\n",
    "plt.show()"
   ]
  },
  {
   "cell_type": "markdown",
   "id": "d1500067",
   "metadata": {},
   "source": [
    "# ROC Curve"
   ]
  },
  {
   "cell_type": "code",
   "execution_count": 73,
   "id": "ec2d72fe",
   "metadata": {},
   "outputs": [
    {
     "data": {
      "image/png": "[encoded data removed]",
      "text/plain": [
       "<Figure size 400x400 with 1 Axes>"
      ]
     },
     "metadata": {
      "needs_background": "light"
     },
     "output_type": "display_data"
    }
   ],
   "source": [
    "from sklearn.metrics import roc_curve, auc\n",
    "\n",
    "lgbm_fpr,lgbm_tpr, lgbm_threshold = roc_curve(Y_test, y_pred_lgbm)\n",
    "auc_lgbm = auc(lgbm_fpr, lgbm_tpr)\n",
    "\n",
    "\n",
    "svm_fpr,svm_tpr, svm_threshold = roc_curve(Y_test, y_pred_svm)\n",
    "auc_svm = auc(svm_fpr, svm_tpr)\n",
    "\n",
    "reg_fpr,reg_tpr, reg_threshold = roc_curve(Y_test,y_pred_reg)\n",
    "auc_reg = auc(reg_fpr, reg_tpr)\n",
    "\n",
    "plt.figure(figsize=(4, 4), dpi=100)\n",
    "\n",
    "plt.plot(lgbm_fpr, lgbm_tpr, marker='.', label='Lgbm (auc = %0.3f)' % auc_lgbm)\n",
    "\n",
    "plt.plot(svm_fpr, svm_tpr, marker='.', label='svm (auc = %0.3f)' % auc_svm)\n",
    "\n",
    "plt.plot(reg_fpr, reg_tpr, marker='.', label='LR (auc = %0.3f)' % auc_reg)\n",
    "\n",
    "\n",
    "plt.xlabel('False Positive Rate')\n",
    "plt.ylabel('True Positive Rate')\n",
    "\n",
    "plt.legend()\n",
    "\n",
    "plt.show()"
   ]
  },
  {
   "cell_type": "code",
   "execution_count": 74,
   "id": "e6ecb624",
   "metadata": {},
   "outputs": [
    {
     "name": "stdout",
     "output_type": "stream",
     "text": [
      "Ideal threshold is:  6    0.379798\n",
      "Name: thresholds, dtype: float64\n"
     ]
    }
   ],
   "source": [
    "i = np.arange(len(lgbm_tpr)) \n",
    "roc = pd.DataFrame({'tf' : pd.Series(lgbm_tpr-(1-lgbm_fpr), index=i), 'thresholds' : pd.Series(lgbm_threshold, index=i)})\n",
    "ideal_roc_thresh = roc.iloc[(roc.tf-0).abs().argsort()[:1]]  #Locate the point where the value is close to 0\n",
    "print(\"Ideal threshold is: \", ideal_roc_thresh['thresholds']) "
   ]
  },
  {
   "cell_type": "code",
   "execution_count": 75,
   "id": "d9ea8f13",
   "metadata": {},
   "outputs": [
    {
     "name": "stdout",
     "output_type": "stream",
     "text": [
      "Ideal threshold is:  6   -0.865222\n",
      "Name: thresholds, dtype: float64\n"
     ]
    }
   ],
   "source": [
    "i = np.arange(len(svm_tpr)) \n",
    "roc = pd.DataFrame({'tf' : pd.Series(svm_tpr-(1-svm_fpr), index=i), 'thresholds' : pd.Series(svm_threshold, index=i)})\n",
    "ideal_roc_thresh = roc.iloc[(roc.tf-0).abs().argsort()[:1]]  #Locate the point where the value is close to 0\n",
    "print(\"Ideal threshold is: \", ideal_roc_thresh['thresholds']) "
   ]
  },
  {
   "cell_type": "code",
   "execution_count": 76,
   "id": "d0928fb6",
   "metadata": {},
   "outputs": [
    {
     "name": "stdout",
     "output_type": "stream",
     "text": [
      "Ideal threshold is:  7    0.262111\n",
      "Name: thresholds, dtype: float64\n"
     ]
    }
   ],
   "source": [
    "\n",
    "i = np.arange(len(reg_tpr)) \n",
    "roc = pd.DataFrame({'tf' : pd.Series(reg_tpr-(1-reg_fpr), index=i), 'thresholds' : pd.Series(reg_threshold, index=i)})\n",
    "ideal_roc_thresh = roc.iloc[(roc.tf-0).abs().argsort()[:1]]  #Locate the point where the value is close to 0\n",
    "print(\"Ideal threshold is: \", ideal_roc_thresh['thresholds']) "
   ]
  },
  {
   "cell_type": "code",
   "execution_count": null,
   "id": "3518e22e",
   "metadata": {},
   "outputs": [],
   "source": []
  },
  {
   "cell_type": "code",
   "execution_count": 77,
   "id": "c8861a82",
   "metadata": {},
   "outputs": [],
   "source": [
    "# def lgbm_pred(X_train,Y_train,X_test,Y_test):\n",
    "\n",
    "#     d_train = lgb.Dataset(X_train,label=Y_train)\n",
    "\n",
    "\n",
    "#     lgb_params = {'learning_rate':0.07, 'boosting_type':'DART',\n",
    "#                   'objective':'binary',\n",
    "#                   'metric':['auc','binary_logloss'],\n",
    "#                   'num_leaves':10,\n",
    "#                   'max_depth':50,\n",
    "#                   'verbose':-100\n",
    "#                  }\n",
    "\n",
    "#     lgbm_clf = lgb.train(lgb_params,d_train,50)\n",
    "\n",
    "\n",
    "\n",
    "#     y_pred_lgbm = lgbm_clf.predict(X_test)\n",
    "\n",
    "#     pred_lgbm = predicted_class(X_test,y_pred_lgbm,0.30997)\n",
    "    \n",
    "#     lgbm_confusionMatrix  = metrics.confusion_matrix(Y_test,pred_lgbm)\n",
    "#     sns.heatmap(lgbm_confusionMatrix,annot=True)\n",
    "#     plt.title('Confusion Matrix(LightGbm)\\n', fontsize = 20)\n",
    "#     plt.show()\n",
    "    \n",
    "\n",
    "#     score = metrics.accuracy_score(Y_test, pred_lgbm)\n",
    "    \n",
    "#     return score"
   ]
  },
  {
   "cell_type": "code",
   "execution_count": 78,
   "id": "067de574",
   "metadata": {},
   "outputs": [],
   "source": [
    "# def cross_validation_lgb():\n",
    "    \n",
    "#     score = []\n",
    "    \n",
    "#     score.append(lgbm_pred(fold_1_train,fold_1_train_l,fold_1_test,fold_1_test_l))\n",
    "#     score.append(lgbm_pred(fold_2_train,fold_2_train_l,fold_2_test,fold_2_test_l))\n",
    "#     score.append(lgbm_pred(fold_3_train,fold_3_train_l,fold_3_test,fold_3_test_l))\n",
    "#     score.append(lgbm_pred(fold_4_train,fold_4_train_l,fold_4_test,fold_4_test_l))\n",
    "#     score.append(lgbm_pred(fold_5_train,fold_5_train_l,fold_5_test,fold_5_test_l))\n",
    "    \n",
    "#     score.append(lgbm_pred(fold_6_train,fold_6_train_l,fold_6_test,fold_6_test_l))\n",
    "#     score.append(lgbm_pred(fold_7_train,fold_7_train_l,fold_7_test,fold_7_test_l))\n",
    "#     score.append(lgbm_pred(fold_8_train,fold_8_train_l,fold_8_test,fold_8_test_l))\n",
    "#     score.append(lgbm_pred(fold_9_train,fold_9_train_l,fold_9_test,fold_9_test_l))\n",
    "#     score.append(lgbm_pred(fold_10_train,fold_10_train_l,fold_10_test,fold_10_test_l))\n",
    "    \n",
    "#     return score   \n",
    "    "
   ]
  }
 ],
 "metadata": {
  "kernelspec": {
   "display_name": "Python 3",
   "language": "python",
   "name": "python3"
  },
  "language_info": {
   "codemirror_mode": {
    "name": "ipython",
    "version": 3
   },
   "file_extension": ".py",
   "mimetype": "text/x-python",
   "name": "python",
   "nbconvert_exporter": "python",
   "pygments_lexer": "ipython3",
   "version": "3.8.8"
  }
 },
 "nbformat": 4,
 "nbformat_minor": 5
}
